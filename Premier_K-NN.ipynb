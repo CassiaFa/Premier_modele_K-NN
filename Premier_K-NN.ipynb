{
 "cells": [
  {
   "cell_type": "markdown",
   "id": "d8758798",
   "metadata": {},
   "source": [
    "# Premier modèle K-NN"
   ]
  },
  {
   "cell_type": "markdown",
   "id": "b6744865",
   "metadata": {},
   "source": [
    "## Base de données, Analyse, Prétraitement"
   ]
  },
  {
   "cell_type": "markdown",
   "id": "2e7dd7a6",
   "metadata": {},
   "source": [
    "### Importation des librairies"
   ]
  },
  {
   "cell_type": "code",
   "execution_count": 41,
   "id": "94387a80",
   "metadata": {},
   "outputs": [],
   "source": [
    "import pandas as pd\n",
    "import numpy as np\n",
    "\n",
    "# Fonction permettant la création du DataSet\n",
    "from create_DataSet import create_DataSet "
   ]
  },
  {
   "cell_type": "markdown",
   "id": "f853a2dd",
   "metadata": {},
   "source": [
    "### Chargement du DataSet"
   ]
  },
  {
   "cell_type": "code",
   "execution_count": 42,
   "id": "35171e61",
   "metadata": {},
   "outputs": [
    {
     "data": {
      "text/html": [
       "<div>\n",
       "<style scoped>\n",
       "    .dataframe tbody tr th:only-of-type {\n",
       "        vertical-align: middle;\n",
       "    }\n",
       "\n",
       "    .dataframe tbody tr th {\n",
       "        vertical-align: top;\n",
       "    }\n",
       "\n",
       "    .dataframe thead th {\n",
       "        text-align: right;\n",
       "    }\n",
       "</style>\n",
       "<table border=\"1\" class=\"dataframe\">\n",
       "  <thead>\n",
       "    <tr style=\"text-align: right;\">\n",
       "      <th></th>\n",
       "      <th>Q1</th>\n",
       "      <th>Q2</th>\n",
       "      <th>Q3</th>\n",
       "      <th>Q4</th>\n",
       "      <th>Q5</th>\n",
       "      <th>Q6</th>\n",
       "      <th>Q7</th>\n",
       "      <th>Q8</th>\n",
       "      <th>Q9</th>\n",
       "      <th>Q10</th>\n",
       "      <th>Score</th>\n",
       "      <th>Interpretation</th>\n",
       "    </tr>\n",
       "  </thead>\n",
       "  <tbody>\n",
       "    <tr>\n",
       "      <th>0</th>\n",
       "      <td>a</td>\n",
       "      <td>b</td>\n",
       "      <td>c</td>\n",
       "      <td>b</td>\n",
       "      <td>a</td>\n",
       "      <td>1</td>\n",
       "      <td>3.0</td>\n",
       "      <td>2.0</td>\n",
       "      <td>1.0</td>\n",
       "      <td>3.0</td>\n",
       "      <td>10</td>\n",
       "      <td>B</td>\n",
       "    </tr>\n",
       "    <tr>\n",
       "      <th>1</th>\n",
       "      <td>a</td>\n",
       "      <td>b</td>\n",
       "      <td>c</td>\n",
       "      <td>a</td>\n",
       "      <td>b</td>\n",
       "      <td>1</td>\n",
       "      <td>3.0</td>\n",
       "      <td>2.0</td>\n",
       "      <td>3.0</td>\n",
       "      <td>1.0</td>\n",
       "      <td>10</td>\n",
       "      <td>B</td>\n",
       "    </tr>\n",
       "    <tr>\n",
       "      <th>2</th>\n",
       "      <td>a</td>\n",
       "      <td>b</td>\n",
       "      <td>c</td>\n",
       "      <td>a</td>\n",
       "      <td>b</td>\n",
       "      <td>1</td>\n",
       "      <td>2.0</td>\n",
       "      <td>3.0</td>\n",
       "      <td>1.0</td>\n",
       "      <td>2.0</td>\n",
       "      <td>8</td>\n",
       "      <td>C</td>\n",
       "    </tr>\n",
       "    <tr>\n",
       "      <th>3</th>\n",
       "      <td>a</td>\n",
       "      <td>c</td>\n",
       "      <td>a</td>\n",
       "      <td>a</td>\n",
       "      <td>a</td>\n",
       "      <td>2</td>\n",
       "      <td>3.0</td>\n",
       "      <td>2.0</td>\n",
       "      <td>2.0</td>\n",
       "      <td>3.0</td>\n",
       "      <td>10</td>\n",
       "      <td>B</td>\n",
       "    </tr>\n",
       "    <tr>\n",
       "      <th>4</th>\n",
       "      <td>a</td>\n",
       "      <td>c</td>\n",
       "      <td>c</td>\n",
       "      <td>b</td>\n",
       "      <td>a</td>\n",
       "      <td>1</td>\n",
       "      <td>NaN</td>\n",
       "      <td>NaN</td>\n",
       "      <td>NaN</td>\n",
       "      <td>3.0</td>\n",
       "      <td>9</td>\n",
       "      <td>C</td>\n",
       "    </tr>\n",
       "  </tbody>\n",
       "</table>\n",
       "</div>"
      ],
      "text/plain": [
       "  Q1 Q2 Q3 Q4 Q5 Q6   Q7   Q8   Q9  Q10  Score Interpretation\n",
       "0  a  b  c  b  a  1  3.0  2.0  1.0  3.0     10              B\n",
       "1  a  b  c  a  b  1  3.0  2.0  3.0  1.0     10              B\n",
       "2  a  b  c  a  b  1  2.0  3.0  1.0  2.0      8              C\n",
       "3  a  c  a  a  a  2  3.0  2.0  2.0  3.0     10              B\n",
       "4  a  c  c  b  a  1  NaN  NaN  NaN  3.0      9              C"
      ]
     },
     "execution_count": 42,
     "metadata": {},
     "output_type": "execute_result"
    }
   ],
   "source": [
    "data = create_DataSet() # Chargement du DataSet à partir de la fonction create_DataSet\n",
    "data.head() # Affichage des 5 premières lignes du DataSet"
   ]
  },
  {
   "cell_type": "code",
   "execution_count": 43,
   "id": "05b176ba",
   "metadata": {},
   "outputs": [
    {
     "name": "stdout",
     "output_type": "stream",
     "text": [
      "<class 'pandas.core.frame.DataFrame'>\n",
      "Int64Index: 215 entries, 0 to 9\n",
      "Data columns (total 12 columns):\n",
      " #   Column          Non-Null Count  Dtype \n",
      "---  ------          --------------  ----- \n",
      " 0   Q1              207 non-null    object\n",
      " 1   Q2              203 non-null    object\n",
      " 2   Q3              202 non-null    object\n",
      " 3   Q4              206 non-null    object\n",
      " 4   Q5              201 non-null    object\n",
      " 5   Q6              203 non-null    object\n",
      " 6   Q7              205 non-null    object\n",
      " 7   Q8              203 non-null    object\n",
      " 8   Q9              205 non-null    object\n",
      " 9   Q10             207 non-null    object\n",
      " 10  Score           215 non-null    int64 \n",
      " 11  Interpretation  215 non-null    object\n",
      "dtypes: int64(1), object(11)\n",
      "memory usage: 21.8+ KB\n"
     ]
    }
   ],
   "source": [
    "data.info() # Affichage des informations du DataSet"
   ]
  },
  {
   "cell_type": "code",
   "execution_count": 44,
   "id": "6f4a8eee",
   "metadata": {},
   "outputs": [
    {
     "name": "stdout",
     "output_type": "stream",
     "text": [
      "(215, 12)\n"
     ]
    }
   ],
   "source": [
    "print(data.shape) # Affichage des dimensions du DataSet"
   ]
  },
  {
   "cell_type": "markdown",
   "id": "8893a5d2",
   "metadata": {},
   "source": [
    "D'après les informations obtenues ci-dessus on constate que notre DataSet contient des données nulles. Dans la suite de ce NoteBook on va donc traiter le DataSet afin de rectifier les données nulles et données potentiellement éronnées."
   ]
  },
  {
   "cell_type": "markdown",
   "id": "0e5a32aa",
   "metadata": {},
   "source": [
    "## Données erronées"
   ]
  },
  {
   "cell_type": "markdown",
   "id": "f5a67b13",
   "metadata": {},
   "source": [
    "Détermination des données erronées et remplacement par des données nulles. Pour ce faire on cherche donc toutes les valeurs différentes de *a*, *b*, *c*, *1*, *2*, *3*, qui sont les données autorisé dans notre jeux de données. Pour ce faire on peut utilisé deux méthode différentes. La première utilise la fonction *replace()*, combiné avec le paramètre *regex*, et pour la seconde on cherche les éléments précisé avec la fonction *isin()*, ce qui permet d'obtenir un masque composé de booléen, les valeurs false sont ensuite remplacé à l'aide de la fonction *where()*."
   ]
  },
  {
   "cell_type": "code",
   "execution_count": 45,
   "id": "541c03c6",
   "metadata": {},
   "outputs": [],
   "source": [
    "# Méthode 1 : utilisation de replace avec un regex\n",
    "data_test = data.copy() # Création d'une copie du DataSet\n",
    "data_test.iloc[:,:-2] = data_test.iloc[:,:-2].replace(regex=[r'[^a-c1.0-3.0].*'],value='NaN') # Remplacement des données éronnées par NaN\n",
    "\n",
    "# data_test.isnull().sum()"
   ]
  },
  {
   "cell_type": "code",
   "execution_count": 46,
   "id": "585fe1c3",
   "metadata": {},
   "outputs": [],
   "source": [
    "# Methode 2 : utilisation de where et isin\n",
    "data.iloc[:,:-2] = data.iloc[:,:-2].where(data.iloc[:,:-2].isin(['a','b','c',1,2,3])) # Remplacement des données éronnées par NaN\n",
    "\n",
    "# data.isnull().sum()"
   ]
  },
  {
   "cell_type": "markdown",
   "id": "37b98d68",
   "metadata": {},
   "source": [
    "## Données manquantes"
   ]
  },
  {
   "cell_type": "markdown",
   "id": "4c282370",
   "metadata": {},
   "source": [
    "Maintenant nous allons comptabiliser le nombre de données manquantes."
   ]
  },
  {
   "cell_type": "code",
   "execution_count": 47,
   "id": "b632fc21",
   "metadata": {},
   "outputs": [
    {
     "data": {
      "text/plain": [
       "Q1                 61\n",
       "Q2                 50\n",
       "Q3                 51\n",
       "Q4                 46\n",
       "Q5                 51\n",
       "Q6                149\n",
       "Q7                167\n",
       "Q8                131\n",
       "Q9                117\n",
       "Q10                93\n",
       "Score               0\n",
       "Interpretation      0\n",
       "dtype: int64"
      ]
     },
     "execution_count": 47,
     "metadata": {},
     "output_type": "execute_result"
    }
   ],
   "source": [
    "data.isnull().sum() # Comptabilisation du nombre de données manquantes"
   ]
  },
  {
   "cell_type": "markdown",
   "id": "26e62820",
   "metadata": {},
   "source": [
    "Il a été décidé de remplacer ces données les modes de chaque features, on aurait également pu les remplacer par la valeur *'2'* ou *'b'* qui n'a pas d'impacte dans la comptabilisation du score."
   ]
  },
  {
   "cell_type": "code",
   "execution_count": 48,
   "id": "c6ab9ac2",
   "metadata": {},
   "outputs": [
    {
     "data": {
      "text/plain": [
       "Q1                0\n",
       "Q2                0\n",
       "Q3                0\n",
       "Q4                0\n",
       "Q5                0\n",
       "Q6                0\n",
       "Q7                0\n",
       "Q8                0\n",
       "Q9                0\n",
       "Q10               0\n",
       "Score             0\n",
       "Interpretation    0\n",
       "dtype: int64"
      ]
     },
     "execution_count": 48,
     "metadata": {},
     "output_type": "execute_result"
    }
   ],
   "source": [
    "data = data.fillna(data.mode().iloc[0,:]) # Remplacement des NaN par les modes\n",
    "data.isnull().sum() # Comptabilisation des NaN"
   ]
  },
  {
   "cell_type": "code",
   "execution_count": 49,
   "id": "85c3445b",
   "metadata": {},
   "outputs": [],
   "source": [
    "data.iloc[:,:-2] = data.iloc[:,:-2].replace({'a': 1, 'b' : 2, 'c' : 3}).astype(\"int64\")"
   ]
  },
  {
   "cell_type": "code",
   "execution_count": 50,
   "id": "dd1847c9",
   "metadata": {},
   "outputs": [],
   "source": [
    "X = data.iloc[:,:-2].values\n",
    "Y = data.iloc[:,-1]"
   ]
  },
  {
   "cell_type": "markdown",
   "id": "1bc96ecf",
   "metadata": {},
   "source": [
    "## Développement et entraînement d'un modèle KNN"
   ]
  },
  {
   "cell_type": "code",
   "execution_count": 51,
   "id": "10b2827e",
   "metadata": {},
   "outputs": [],
   "source": [
    "from KNN import *\n",
    "\n",
    "from sklearn.model_selection import train_test_split, GridSearchCV\n",
    "from sklearn.metrics import confusion_matrix, accuracy_score, recall_score, precision_score\n",
    "from sklearn.neighbors import KNeighborsClassifier"
   ]
  },
  {
   "cell_type": "markdown",
   "id": "2c1e8c9e",
   "metadata": {},
   "source": [
    "Séparation des données en DataSet de train (*X_train*), et DataSet de test (*X_test*)."
   ]
  },
  {
   "cell_type": "code",
   "execution_count": 57,
   "id": "e94cafe0",
   "metadata": {},
   "outputs": [],
   "source": [
    "X_train, X_test, y_train, y_test = train_test_split(X, Y, train_size=0.8, random_state=0)"
   ]
  },
  {
   "cell_type": "markdown",
   "id": "7930dbfd",
   "metadata": {},
   "source": [
    "### KNN From Scratch"
   ]
  },
  {
   "cell_type": "code",
   "execution_count": 58,
   "id": "c9c0a3c3",
   "metadata": {},
   "outputs": [],
   "source": [
    "modele_scratch = KNN()"
   ]
  },
  {
   "cell_type": "code",
   "execution_count": 59,
   "id": "f1c20788",
   "metadata": {},
   "outputs": [],
   "source": [
    "modele_scratch.train(X_train, y_train, metric=\"euclidean\")"
   ]
  },
  {
   "cell_type": "code",
   "execution_count": 60,
   "id": "ec1b94c4",
   "metadata": {},
   "outputs": [
    {
     "name": "stdout",
     "output_type": "stream",
     "text": [
      "[3 3 3 2 3 3 2 3 3 3 3 3 2 3 3 3 2 3 3 2 3 3 3 2 3 3 3 3 2 3 3 2 2 2 3 2 3\n",
      " 3 3 3 3 2 3]\n"
     ]
    }
   ],
   "source": [
    "y_pred = modele_scratch.prediction(X_test, k=5)\n",
    "print(y_pred)"
   ]
  },
  {
   "cell_type": "code",
   "execution_count": 61,
   "id": "687fef4a",
   "metadata": {},
   "outputs": [
    {
     "name": "stdout",
     "output_type": "stream",
     "text": [
      "[3 2 3 2 3 2 2 3 3 3 2 2 3 3 2 3 1 3 3 1 2 3 3 2 2 3 2 2 3 3 2 2 3 2 3 2 2\n",
      " 3 3 3 3 1 3]\n",
      "\n",
      " ======  Résumé des métrique  =====\n",
      "\n",
      "----------------------\n",
      "Matrice de confusion\n",
      "[[ 0  3  0]\n",
      " [ 0  6 11]\n",
      " [ 0  3 20]]\n",
      "\n",
      "=======================\n",
      "\n",
      "Accuracy : 60.46511627906976\n",
      "\n",
      "Taux d'erreur : 39.53488372093024\n",
      "----------------------\n",
      "\n",
      "Précision classe A : nan\n",
      "\n",
      "Sensibilité classe A : 0.0\n",
      "----------------------\n",
      "\n",
      "Précision classe B : 0.5\n",
      "\n",
      "Sensibilité classe B : 0.35294117647058826\n",
      "----------------------\n",
      "\n",
      "Précision classe C : 0.6451612903225806\n",
      "\n",
      "Sensibilité classe C : 0.8695652173913043\n",
      "----------------------\n",
      "\n",
      "=======================\n",
      "\n"
     ]
    },
    {
     "name": "stderr",
     "output_type": "stream",
     "text": [
      "C:\\Users\\utilisateur\\Documents\\microsoft_ia\\Projets\\Premier_modele_K-NN\\KNN.py:146: RuntimeWarning: invalid value encountered in longlong_scalars\n",
      "  R = self.__confusion_matrix[cpt,cpt]/self.__confusion_matrix.sum(axis=1)[cpt]\n"
     ]
    }
   ],
   "source": [
    "acc = modele_scratch.accuracy(y_test, y_pred, resume=True)"
   ]
  },
  {
   "cell_type": "markdown",
   "id": "823a65e3",
   "metadata": {},
   "source": [
    "Transformation de toutes les colonnes en _**string**_ afin de pouvoir appliquer _**get_dummies**_ sur toutes les colonnes qualitatives (toutes les colonnes)."
   ]
  },
  {
   "cell_type": "code",
   "execution_count": 17,
   "id": "700e6d7e",
   "metadata": {},
   "outputs": [
    {
     "name": "stdout",
     "output_type": "stream",
     "text": [
      "    Q1  Q2  Q3  Q4  Q5  Q6  Q7  Q8  Q9  Q10\n",
      "0    1   2   3   2   1   1   3   2   1    3\n",
      "1    1   2   3   1   2   1   3   2   3    1\n",
      "2    1   2   3   1   2   1   2   3   1    2\n",
      "3    1   3   1   1   1   2   3   2   2    3\n",
      "4    1   3   3   2   1   1   3   1   1    3\n",
      "..  ..  ..  ..  ..  ..  ..  ..  ..  ..  ...\n",
      "5    3   3   3   3   3   2   3   1   1    3\n",
      "6    2   1   3   1   2   2   3   1   1    2\n",
      "7    1   3   2   1   1   2   3   1   1    3\n",
      "8    1   2   3   1   2   2   3   1   1    1\n",
      "9    1   2   3   1   1   2   3   1   1    3\n",
      "\n",
      "[215 rows x 10 columns]\n"
     ]
    }
   ],
   "source": [
    "print(data.iloc[:,:-2])"
   ]
  },
  {
   "cell_type": "code",
   "execution_count": 18,
   "id": "73da1671",
   "metadata": {},
   "outputs": [],
   "source": [
    "data.iloc[:,:-2] = data.iloc[:,:-2].replace({1 : 'a', 2 : 'b', 3 : 'c'})"
   ]
  },
  {
   "cell_type": "code",
   "execution_count": 19,
   "id": "59df39e8",
   "metadata": {},
   "outputs": [
    {
     "name": "stdout",
     "output_type": "stream",
     "text": [
      "   Q1 Q2 Q3 Q4 Q5 Q6 Q7 Q8 Q9 Q10\n",
      "0   a  b  c  b  a  a  c  b  a   c\n",
      "1   a  b  c  a  b  a  c  b  c   a\n",
      "2   a  b  c  a  b  a  b  c  a   b\n",
      "3   a  c  a  a  a  b  c  b  b   c\n",
      "4   a  c  c  b  a  a  c  a  a   c\n",
      ".. .. .. .. .. .. .. .. .. ..  ..\n",
      "5   c  c  c  c  c  b  c  a  a   c\n",
      "6   b  a  c  a  b  b  c  a  a   b\n",
      "7   a  c  b  a  a  b  c  a  a   c\n",
      "8   a  b  c  a  b  b  c  a  a   a\n",
      "9   a  b  c  a  a  b  c  a  a   c\n",
      "\n",
      "[215 rows x 10 columns]\n"
     ]
    }
   ],
   "source": [
    "print(data.iloc[:,:-2])"
   ]
  },
  {
   "cell_type": "code",
   "execution_count": 20,
   "id": "e55097c6",
   "metadata": {},
   "outputs": [],
   "source": [
    "# data.iloc[:,:-2] = data.iloc[:,:-2].astype(str)"
   ]
  },
  {
   "cell_type": "markdown",
   "id": "3958bcfd",
   "metadata": {},
   "source": [
    "Utilisation de la fonction _**get_dummies**_ pour categoriser les variables qualitatives. "
   ]
  },
  {
   "cell_type": "code",
   "execution_count": 21,
   "id": "0ad7c8b6",
   "metadata": {},
   "outputs": [],
   "source": [
    "X = pd.get_dummies(data.iloc[:,:-2]).values"
   ]
  },
  {
   "cell_type": "code",
   "execution_count": 22,
   "id": "69745033",
   "metadata": {},
   "outputs": [],
   "source": [
    "Y = data.iloc[:,-1].values"
   ]
  },
  {
   "cell_type": "code",
   "execution_count": 23,
   "id": "beba4fea",
   "metadata": {},
   "outputs": [],
   "source": [
    "# from KNN import *\n",
    "\n",
    "# X_train = X[:-1,:]\n",
    "# X_test = X[-1,:]\n",
    "\n",
    "# ppv = KNN(X_test, X_train, Y[:-1].reshape(-1), metric=\"euclidean\")"
   ]
  },
  {
   "cell_type": "markdown",
   "id": "7f13fbd9",
   "metadata": {},
   "source": [
    "## KNN Sklearn"
   ]
  },
  {
   "cell_type": "code",
   "execution_count": 24,
   "id": "e38385ac",
   "metadata": {},
   "outputs": [],
   "source": [
    "X_train, X_test, y_train, y_test = train_test_split(X, Y, train_size=0.8, random_state=0)"
   ]
  },
  {
   "cell_type": "code",
   "execution_count": 25,
   "id": "cf454015",
   "metadata": {},
   "outputs": [
    {
     "name": "stderr",
     "output_type": "stream",
     "text": [
      "C:\\Users\\utilisateur\\anaconda3\\lib\\site-packages\\sklearn\\model_selection\\_split.py:666: UserWarning: The least populated class in y has only 2 members, which is less than n_splits=5.\n",
      "  warnings.warn((\"The least populated class in y has only %d\"\n"
     ]
    }
   ],
   "source": [
    "parametres = {\n",
    "    \"n_neighbors\" : list(range(1,20+1)),\n",
    "    # \"algorithm\" : [\"brute\"],\n",
    "    \"metric\" : [\"euclidean\", \"manhattan\", \"minkowski\"]\n",
    "}\n",
    "\n",
    "classifier = GridSearchCV(KNeighborsClassifier(), parametres, cv = 5)\n",
    "\n",
    "classifier = classifier.fit(X_train, y_train)"
   ]
  },
  {
   "cell_type": "code",
   "execution_count": 26,
   "id": "3fc526da",
   "metadata": {},
   "outputs": [
    {
     "data": {
      "text/plain": [
       "{'metric': 'euclidean', 'n_neighbors': 8}"
      ]
     },
     "execution_count": 26,
     "metadata": {},
     "output_type": "execute_result"
    }
   ],
   "source": [
    "classifier.best_params_"
   ]
  },
  {
   "cell_type": "code",
   "execution_count": 27,
   "id": "e668e17a",
   "metadata": {},
   "outputs": [],
   "source": [
    "y_pred = classifier.predict(X_test)"
   ]
  },
  {
   "cell_type": "code",
   "execution_count": 28,
   "id": "4d8786b3",
   "metadata": {},
   "outputs": [
    {
     "name": "stdout",
     "output_type": "stream",
     "text": [
      "[[ 0  3  0]\n",
      " [ 0 10  7]\n",
      " [ 0  3 20]]\n"
     ]
    }
   ],
   "source": [
    "CM = confusion_matrix(y_test, y_pred)\n",
    "print(CM)"
   ]
  },
  {
   "cell_type": "code",
   "execution_count": 29,
   "id": "340c38d0",
   "metadata": {},
   "outputs": [
    {
     "name": "stdout",
     "output_type": "stream",
     "text": [
      "\n",
      "=======================\n",
      "\n",
      "Taux d'erreur : 30.23255813953488\n",
      "\n",
      "Accuracy : 69.76744186046511\n",
      "----------------------\n",
      "\n",
      "Précision classe A : nan\n",
      "\n",
      "Sensibilité classe A : 0.0\n",
      "----------------------\n",
      "\n",
      "Précision classe B : 0.625\n",
      "\n",
      "Sensibilité classe B : 0.5882352941176471\n",
      "----------------------\n",
      "\n",
      "Précision classe C : 0.7407407407407407\n",
      "\n",
      "Sensibilité classe C : 0.8695652173913043\n",
      "\n",
      "=======================\n",
      "\n"
     ]
    },
    {
     "name": "stderr",
     "output_type": "stream",
     "text": [
      "C:\\Users\\UTILIS~1\\AppData\\Local\\Temp/ipykernel_10304/3297350612.py:3: RuntimeWarning: invalid value encountered in longlong_scalars\n",
      "  P1 = CM[0,0]/CM.sum(axis=0)[0]\n"
     ]
    }
   ],
   "source": [
    "TE = (1 - np.trace(CM)/np.sum(CM))*100\n",
    "Accuracy = 100-TE\n",
    "P1 = CM[0,0]/CM.sum(axis=0)[0]\n",
    "R1 = CM[0,0]/CM.sum(axis=1)[0]\n",
    "P2 = CM[1,1]/CM.sum(axis=0)[1]\n",
    "R2 = CM[1,1]/CM.sum(axis=1)[1]\n",
    "P3 = CM[2,2]/CM.sum(axis=0)[2]\n",
    "R3 = CM[2,2]/CM.sum(axis=1)[2]\n",
    "\n",
    "print(\"\\n=======================\")\n",
    "print(f\"\\nTaux d'erreur : {TE}\")\n",
    "print(f\"\\nAccuracy : {Accuracy}\")\n",
    "print(\"----------------------\")\n",
    "\n",
    "print(f\"\\nPrécision classe A : {P1}\")\n",
    "print(f\"\\nSensibilité classe A : {R1}\")\n",
    "print(\"----------------------\")\n",
    "\n",
    "print(f\"\\nPrécision classe B : {P2}\")\n",
    "print(f\"\\nSensibilité classe B : {R2}\")\n",
    "print(\"----------------------\")\n",
    "\n",
    "print(f\"\\nPrécision classe C : {P3}\")\n",
    "print(f\"\\nSensibilité classe C : {R3}\")\n",
    "print(\"\\n=======================\\n\")"
   ]
  },
  {
   "cell_type": "code",
   "execution_count": 30,
   "id": "1d9454be",
   "metadata": {},
   "outputs": [
    {
     "name": "stdout",
     "output_type": "stream",
     "text": [
      "Accuracy = 0.6976744186046512\n",
      "Recall = 0.6976744186046512\n",
      "Precision = 0.6976744186046512\n"
     ]
    }
   ],
   "source": [
    "print(f\"Accuracy = {accuracy_score(y_test, y_pred)}\")\n",
    "print(f\"Recall = {recall_score(y_test, y_pred, average='micro')}\")\n",
    "print(f\"Precision = {precision_score(y_test, y_pred, average='micro')}\")"
   ]
  },
  {
   "cell_type": "code",
   "execution_count": 31,
   "id": "ba4dabdb",
   "metadata": {},
   "outputs": [
    {
     "data": {
      "text/plain": [
       "['KNN_sklearn.joblib']"
      ]
     },
     "execution_count": 31,
     "metadata": {},
     "output_type": "execute_result"
    }
   ],
   "source": [
    "from joblib import dump, load\n",
    "\n",
    "dump(classifier, 'KNN_sklearn.joblib')"
   ]
  },
  {
   "cell_type": "code",
   "execution_count": 32,
   "id": "582b2a99",
   "metadata": {},
   "outputs": [],
   "source": [
    "toto = load('KNN_sklearn.joblib')\n",
    "n_predict = toto.predict(X_test)"
   ]
  },
  {
   "cell_type": "code",
   "execution_count": 33,
   "id": "a450ad6a",
   "metadata": {},
   "outputs": [
    {
     "data": {
      "text/plain": [
       "0.6976744186046512"
      ]
     },
     "execution_count": 33,
     "metadata": {},
     "output_type": "execute_result"
    }
   ],
   "source": [
    "accuracy_score(y_test, n_predict)"
   ]
  },
  {
   "cell_type": "code",
   "execution_count": 34,
   "id": "06e196f0",
   "metadata": {},
   "outputs": [
    {
     "data": {
      "text/plain": [
       "0.6976744186046512"
      ]
     },
     "execution_count": 34,
     "metadata": {},
     "output_type": "execute_result"
    }
   ],
   "source": [
    "toto.score(X_test, y_test)"
   ]
  },
  {
   "cell_type": "code",
   "execution_count": null,
   "id": "8cbb7248",
   "metadata": {},
   "outputs": [],
   "source": []
  },
  {
   "cell_type": "markdown",
   "id": "16ea0bfe",
   "metadata": {},
   "source": [
    "### KNN From Sklearn"
   ]
  },
  {
   "cell_type": "code",
   "execution_count": null,
   "id": "98b7b07e",
   "metadata": {},
   "outputs": [],
   "source": []
  },
  {
   "cell_type": "markdown",
   "id": "09e9c4dd",
   "metadata": {},
   "source": [
    "## Mettre en place la solution dans l'application de test de personnalité"
   ]
  },
  {
   "cell_type": "code",
   "execution_count": null,
   "id": "d48ea28c",
   "metadata": {},
   "outputs": [],
   "source": []
  }
 ],
 "metadata": {
  "kernelspec": {
   "display_name": "Python 3 (ipykernel)",
   "language": "python",
   "name": "python3"
  },
  "language_info": {
   "codemirror_mode": {
    "name": "ipython",
    "version": 3
   },
   "file_extension": ".py",
   "mimetype": "text/x-python",
   "name": "python",
   "nbconvert_exporter": "python",
   "pygments_lexer": "ipython3",
   "version": "3.9.7"
  }
 },
 "nbformat": 4,
 "nbformat_minor": 5
}
