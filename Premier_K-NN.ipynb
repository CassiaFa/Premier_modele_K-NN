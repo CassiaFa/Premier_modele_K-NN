{
 "cells": [
  {
   "cell_type": "markdown",
   "id": "d8758798",
   "metadata": {},
   "source": [
    "# Premier modèle K-NN"
   ]
  },
  {
   "cell_type": "markdown",
   "id": "d49f2457",
   "metadata": {},
   "source": [
    "## Importation des librairies"
   ]
  },
  {
   "cell_type": "code",
   "execution_count": 1,
   "id": "94387a80",
   "metadata": {},
   "outputs": [],
   "source": [
    "import pandas as pd\n",
    "import numpy as np\n",
    "\n",
    "from create_DataSet import create_DataSet "
   ]
  },
  {
   "cell_type": "markdown",
   "id": "f853a2dd",
   "metadata": {},
   "source": [
    "## Chargement du DataSet"
   ]
  },
  {
   "cell_type": "code",
   "execution_count": 2,
   "id": "35171e61",
   "metadata": {},
   "outputs": [
    {
     "data": {
      "text/html": [
       "<div>\n",
       "<style scoped>\n",
       "    .dataframe tbody tr th:only-of-type {\n",
       "        vertical-align: middle;\n",
       "    }\n",
       "\n",
       "    .dataframe tbody tr th {\n",
       "        vertical-align: top;\n",
       "    }\n",
       "\n",
       "    .dataframe thead th {\n",
       "        text-align: right;\n",
       "    }\n",
       "</style>\n",
       "<table border=\"1\" class=\"dataframe\">\n",
       "  <thead>\n",
       "    <tr style=\"text-align: right;\">\n",
       "      <th></th>\n",
       "      <th>Q1</th>\n",
       "      <th>Q2</th>\n",
       "      <th>Q3</th>\n",
       "      <th>Q4</th>\n",
       "      <th>Q5</th>\n",
       "      <th>Q6</th>\n",
       "      <th>Q7</th>\n",
       "      <th>Q8</th>\n",
       "      <th>Q9</th>\n",
       "      <th>Q10</th>\n",
       "      <th>Score</th>\n",
       "      <th>Interpretation</th>\n",
       "    </tr>\n",
       "  </thead>\n",
       "  <tbody>\n",
       "    <tr>\n",
       "      <th>0</th>\n",
       "      <td>a</td>\n",
       "      <td>b</td>\n",
       "      <td>c</td>\n",
       "      <td>b</td>\n",
       "      <td>a</td>\n",
       "      <td>1</td>\n",
       "      <td>3.0</td>\n",
       "      <td>2.0</td>\n",
       "      <td>1.0</td>\n",
       "      <td>3.0</td>\n",
       "      <td>10</td>\n",
       "      <td>B</td>\n",
       "    </tr>\n",
       "    <tr>\n",
       "      <th>1</th>\n",
       "      <td>a</td>\n",
       "      <td>b</td>\n",
       "      <td>c</td>\n",
       "      <td>a</td>\n",
       "      <td>b</td>\n",
       "      <td>1</td>\n",
       "      <td>3.0</td>\n",
       "      <td>2.0</td>\n",
       "      <td>3.0</td>\n",
       "      <td>1.0</td>\n",
       "      <td>10</td>\n",
       "      <td>B</td>\n",
       "    </tr>\n",
       "    <tr>\n",
       "      <th>2</th>\n",
       "      <td>a</td>\n",
       "      <td>b</td>\n",
       "      <td>c</td>\n",
       "      <td>a</td>\n",
       "      <td>b</td>\n",
       "      <td>1</td>\n",
       "      <td>2.0</td>\n",
       "      <td>3.0</td>\n",
       "      <td>1.0</td>\n",
       "      <td>2.0</td>\n",
       "      <td>8</td>\n",
       "      <td>C</td>\n",
       "    </tr>\n",
       "    <tr>\n",
       "      <th>3</th>\n",
       "      <td>a</td>\n",
       "      <td>c</td>\n",
       "      <td>a</td>\n",
       "      <td>a</td>\n",
       "      <td>a</td>\n",
       "      <td>2</td>\n",
       "      <td>3.0</td>\n",
       "      <td>2.0</td>\n",
       "      <td>2.0</td>\n",
       "      <td>3.0</td>\n",
       "      <td>10</td>\n",
       "      <td>B</td>\n",
       "    </tr>\n",
       "    <tr>\n",
       "      <th>4</th>\n",
       "      <td>a</td>\n",
       "      <td>c</td>\n",
       "      <td>c</td>\n",
       "      <td>b</td>\n",
       "      <td>a</td>\n",
       "      <td>1</td>\n",
       "      <td>NaN</td>\n",
       "      <td>NaN</td>\n",
       "      <td>NaN</td>\n",
       "      <td>3.0</td>\n",
       "      <td>9</td>\n",
       "      <td>C</td>\n",
       "    </tr>\n",
       "  </tbody>\n",
       "</table>\n",
       "</div>"
      ],
      "text/plain": [
       "  Q1 Q2 Q3 Q4 Q5 Q6   Q7   Q8   Q9  Q10  Score Interpretation\n",
       "0  a  b  c  b  a  1  3.0  2.0  1.0  3.0     10              B\n",
       "1  a  b  c  a  b  1  3.0  2.0  3.0  1.0     10              B\n",
       "2  a  b  c  a  b  1  2.0  3.0  1.0  2.0      8              C\n",
       "3  a  c  a  a  a  2  3.0  2.0  2.0  3.0     10              B\n",
       "4  a  c  c  b  a  1  NaN  NaN  NaN  3.0      9              C"
      ]
     },
     "execution_count": 2,
     "metadata": {},
     "output_type": "execute_result"
    }
   ],
   "source": [
    "data = create_DataSet()\n",
    "data.head()"
   ]
  },
  {
   "cell_type": "code",
   "execution_count": 3,
   "id": "05b176ba",
   "metadata": {},
   "outputs": [
    {
     "name": "stdout",
     "output_type": "stream",
     "text": [
      "<class 'pandas.core.frame.DataFrame'>\n",
      "Int64Index: 215 entries, 0 to 9\n",
      "Data columns (total 12 columns):\n",
      " #   Column          Non-Null Count  Dtype \n",
      "---  ------          --------------  ----- \n",
      " 0   Q1              207 non-null    object\n",
      " 1   Q2              203 non-null    object\n",
      " 2   Q3              202 non-null    object\n",
      " 3   Q4              206 non-null    object\n",
      " 4   Q5              201 non-null    object\n",
      " 5   Q6              203 non-null    object\n",
      " 6   Q7              205 non-null    object\n",
      " 7   Q8              203 non-null    object\n",
      " 8   Q9              205 non-null    object\n",
      " 9   Q10             207 non-null    object\n",
      " 10  Score           215 non-null    int64 \n",
      " 11  Interpretation  215 non-null    object\n",
      "dtypes: int64(1), object(11)\n",
      "memory usage: 21.8+ KB\n"
     ]
    }
   ],
   "source": [
    "data.info()"
   ]
  },
  {
   "cell_type": "code",
   "execution_count": 4,
   "id": "6f4a8eee",
   "metadata": {},
   "outputs": [
    {
     "name": "stdout",
     "output_type": "stream",
     "text": [
      "(215, 12)\n"
     ]
    }
   ],
   "source": [
    "print(data.shape)"
   ]
  },
  {
   "cell_type": "markdown",
   "id": "0e5a32aa",
   "metadata": {},
   "source": [
    "## Données erronées"
   ]
  },
  {
   "cell_type": "markdown",
   "id": "f5a67b13",
   "metadata": {},
   "source": [
    "Détermination des données erronées, on cherche donc toutes les valeurs différentes *a*, *b*, *c*, *1*, *2*, *3* ."
   ]
  },
  {
   "cell_type": "code",
   "execution_count": 5,
   "id": "541c03c6",
   "metadata": {},
   "outputs": [],
   "source": [
    "# Méthode 1 : utilisation de replace avec un regex\n",
    "data_test = data.copy() \n",
    "data_test.iloc[:,:-2] = data_test.iloc[:,:-2].replace(regex=[r'[^a-c1.0-3.0].*'],value='NaN')"
   ]
  },
  {
   "cell_type": "code",
   "execution_count": 6,
   "id": "f25cab7c",
   "metadata": {},
   "outputs": [
    {
     "data": {
      "text/plain": [
       "Q1                 8\n",
       "Q2                12\n",
       "Q3                13\n",
       "Q4                 9\n",
       "Q5                14\n",
       "Q6                12\n",
       "Q7                10\n",
       "Q8                12\n",
       "Q9                10\n",
       "Q10                8\n",
       "Score              0\n",
       "Interpretation     0\n",
       "dtype: int64"
      ]
     },
     "execution_count": 6,
     "metadata": {},
     "output_type": "execute_result"
    }
   ],
   "source": [
    "data_test.isnull().sum()"
   ]
  },
  {
   "cell_type": "code",
   "execution_count": 7,
   "id": "585fe1c3",
   "metadata": {},
   "outputs": [],
   "source": [
    "# Methode 2 : utilisation de where et isin\n",
    "data.iloc[:,:-2] = data.iloc[:,:-2].where(data.iloc[:,:-2].isin(['a','b','c',1,2,3]))"
   ]
  },
  {
   "cell_type": "code",
   "execution_count": 8,
   "id": "b7b94847",
   "metadata": {},
   "outputs": [
    {
     "data": {
      "text/plain": [
       "Q1                 61\n",
       "Q2                 50\n",
       "Q3                 51\n",
       "Q4                 46\n",
       "Q5                 51\n",
       "Q6                149\n",
       "Q7                167\n",
       "Q8                131\n",
       "Q9                117\n",
       "Q10                93\n",
       "Score               0\n",
       "Interpretation      0\n",
       "dtype: int64"
      ]
     },
     "execution_count": 8,
     "metadata": {},
     "output_type": "execute_result"
    }
   ],
   "source": [
    "data.isnull().sum()"
   ]
  },
  {
   "cell_type": "markdown",
   "id": "37b98d68",
   "metadata": {},
   "source": [
    "## Données manquantes"
   ]
  },
  {
   "cell_type": "markdown",
   "id": "4c282370",
   "metadata": {},
   "source": [
    "Comptabilisation du nombre de données manquante."
   ]
  },
  {
   "cell_type": "code",
   "execution_count": 9,
   "id": "b632fc21",
   "metadata": {},
   "outputs": [
    {
     "data": {
      "text/plain": [
       "Q1                 61\n",
       "Q2                 50\n",
       "Q3                 51\n",
       "Q4                 46\n",
       "Q5                 51\n",
       "Q6                149\n",
       "Q7                167\n",
       "Q8                131\n",
       "Q9                117\n",
       "Q10                93\n",
       "Score               0\n",
       "Interpretation      0\n",
       "dtype: int64"
      ]
     },
     "execution_count": 9,
     "metadata": {},
     "output_type": "execute_result"
    }
   ],
   "source": [
    "data.isnull().sum()"
   ]
  },
  {
   "cell_type": "markdown",
   "id": "26e62820",
   "metadata": {},
   "source": [
    "Remplacement des données manquantes par les modes de chaque colonne"
   ]
  },
  {
   "cell_type": "code",
   "execution_count": 10,
   "id": "c6ab9ac2",
   "metadata": {},
   "outputs": [
    {
     "data": {
      "text/plain": [
       "Q1                0\n",
       "Q2                0\n",
       "Q3                0\n",
       "Q4                0\n",
       "Q5                0\n",
       "Q6                0\n",
       "Q7                0\n",
       "Q8                0\n",
       "Q9                0\n",
       "Q10               0\n",
       "Score             0\n",
       "Interpretation    0\n",
       "dtype: int64"
      ]
     },
     "execution_count": 10,
     "metadata": {},
     "output_type": "execute_result"
    }
   ],
   "source": [
    "data = data.fillna(data.mode().iloc[0,:])\n",
    "data.isnull().sum()"
   ]
  },
  {
   "cell_type": "markdown",
   "id": "823a65e3",
   "metadata": {},
   "source": [
    "Transformation de toutes les colonnes en _**string**_ afin de pouvoir appliquer _**get_dummies**_ sur toutes les colonnes qualitatives (toutes les colonnes)."
   ]
  },
  {
   "cell_type": "code",
   "execution_count": 11,
   "id": "700e6d7e",
   "metadata": {},
   "outputs": [
    {
     "name": "stdout",
     "output_type": "stream",
     "text": [
      "   Q1 Q2 Q3 Q4 Q5 Q6   Q7   Q8   Q9  Q10\n",
      "0   a  b  c  b  a  1  3.0  2.0  1.0  3.0\n",
      "1   a  b  c  a  b  1  3.0  2.0  3.0  1.0\n",
      "2   a  b  c  a  b  1  2.0  3.0  1.0  2.0\n",
      "3   a  c  a  a  a  2  3.0  2.0  2.0  3.0\n",
      "4   a  c  c  b  a  1  3.0  1.0  1.0  3.0\n",
      ".. .. .. .. .. .. ..  ...  ...  ...  ...\n",
      "5   c  c  c  c  c  2  3.0  1.0  1.0    3\n",
      "6   b  a  c  a  b  2  3.0  1.0  1.0    2\n",
      "7   a  c  b  a  a  2  3.0  1.0  1.0    3\n",
      "8   a  b  c  a  b  2  3.0  1.0  1.0    1\n",
      "9   a  b  c  a  a  2  3.0  1.0  1.0    3\n",
      "\n",
      "[215 rows x 10 columns]\n"
     ]
    }
   ],
   "source": [
    "print(data.iloc[:,:-2])"
   ]
  },
  {
   "cell_type": "code",
   "execution_count": 12,
   "id": "73da1671",
   "metadata": {},
   "outputs": [],
   "source": [
    "data.iloc[:,:-2] = data.iloc[:,:-2].replace({1 : 'a', 2 : 'b', 3 : 'c'})"
   ]
  },
  {
   "cell_type": "code",
   "execution_count": 13,
   "id": "59df39e8",
   "metadata": {},
   "outputs": [
    {
     "name": "stdout",
     "output_type": "stream",
     "text": [
      "   Q1 Q2 Q3 Q4 Q5 Q6 Q7 Q8 Q9 Q10\n",
      "0   a  b  c  b  a  a  c  b  a   c\n",
      "1   a  b  c  a  b  a  c  b  c   a\n",
      "2   a  b  c  a  b  a  b  c  a   b\n",
      "3   a  c  a  a  a  b  c  b  b   c\n",
      "4   a  c  c  b  a  a  c  a  a   c\n",
      ".. .. .. .. .. .. .. .. .. ..  ..\n",
      "5   c  c  c  c  c  b  c  a  a   c\n",
      "6   b  a  c  a  b  b  c  a  a   b\n",
      "7   a  c  b  a  a  b  c  a  a   c\n",
      "8   a  b  c  a  b  b  c  a  a   a\n",
      "9   a  b  c  a  a  b  c  a  a   c\n",
      "\n",
      "[215 rows x 10 columns]\n"
     ]
    }
   ],
   "source": [
    "print(data.iloc[:,:-2])"
   ]
  },
  {
   "cell_type": "code",
   "execution_count": 14,
   "id": "e55097c6",
   "metadata": {},
   "outputs": [],
   "source": [
    "# data.iloc[:,:-2] = data.iloc[:,:-2].astype(str)"
   ]
  },
  {
   "cell_type": "markdown",
   "id": "3958bcfd",
   "metadata": {},
   "source": [
    "Utilisation de la fonction _**get_dummies**_ pour categoriser les variables qualitatives. "
   ]
  },
  {
   "cell_type": "code",
   "execution_count": 15,
   "id": "0ad7c8b6",
   "metadata": {},
   "outputs": [],
   "source": [
    "X = pd.get_dummies(data.iloc[:,:-2]).values"
   ]
  },
  {
   "cell_type": "code",
   "execution_count": 16,
   "id": "69745033",
   "metadata": {},
   "outputs": [],
   "source": [
    "Y = data.iloc[:,-1].values"
   ]
  }
 ],
 "metadata": {
  "kernelspec": {
   "display_name": "Python 3 (ipykernel)",
   "language": "python",
   "name": "python3"
  },
  "language_info": {
   "codemirror_mode": {
    "name": "ipython",
    "version": 3
   },
   "file_extension": ".py",
   "mimetype": "text/x-python",
   "name": "python",
   "nbconvert_exporter": "python",
   "pygments_lexer": "ipython3",
   "version": "3.9.7"
  }
 },
 "nbformat": 4,
 "nbformat_minor": 5
}
